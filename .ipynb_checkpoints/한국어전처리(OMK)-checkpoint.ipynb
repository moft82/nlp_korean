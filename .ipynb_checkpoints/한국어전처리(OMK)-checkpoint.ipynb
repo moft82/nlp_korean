{
 "cells": [
  {
   "cell_type": "code",
   "execution_count": 14,
   "metadata": {
    "colab": {
     "base_uri": "https://localhost:8080/"
    },
    "executionInfo": {
     "elapsed": 23177,
     "status": "ok",
     "timestamp": 1615012268953,
     "user": {
      "displayName": "MINKI OH",
      "photoUrl": "https://lh3.googleusercontent.com/a-/AOh14GglL-BNhYKde9wBdh6rd3Ix46Dou98NnP1zxT4sdw=s64",
      "userId": "12569522001043561401"
     },
     "user_tz": -540
    },
    "id": "788qBYWiOljl",
    "outputId": "b59cd4c9-19ff-4f52-d3ba-93cca43347e5"
   },
   "outputs": [
    {
     "name": "stderr",
     "output_type": "stream",
     "text": [
      "C:\\ProgramData\\Anaconda3\\lib\\site-packages\\ipykernel\\ipkernel.py:287: DeprecationWarning: `should_run_async` will not call `transform_cell` automatically in the future. Please pass the result to `transformed_cell` argument and any exception that happen during thetransform in `preprocessing_exc_tuple` in IPython 7.17 and above.\n",
      "  and should_run_async(code)\n"
     ]
    },
    {
     "data": {
      "text/html": [
       "<style>.container { width:95% !important; }</style>"
      ],
      "text/plain": [
       "<IPython.core.display.HTML object>"
      ]
     },
     "metadata": {},
     "output_type": "display_data"
    }
   ],
   "source": [
    "from IPython.core.display import display, HTML\n",
    "display(HTML(\"<style>.container { width:95% !important; }</style>\"))\n",
    "import warnings\n",
    "warnings.simplefilter('once')"
   ]
  },
  {
   "cell_type": "code",
   "execution_count": 15,
   "metadata": {
    "colab": {
     "base_uri": "https://localhost:8080/"
    },
    "executionInfo": {
     "elapsed": 2078,
     "status": "ok",
     "timestamp": 1615012296765,
     "user": {
      "displayName": "MINKI OH",
      "photoUrl": "https://lh3.googleusercontent.com/a-/AOh14GglL-BNhYKde9wBdh6rd3Ix46Dou98NnP1zxT4sdw=s64",
      "userId": "12569522001043561401"
     },
     "user_tz": -540
    },
    "id": "kMM2dLhjO5nX",
    "outputId": "4d1d052e-08a6-4ddb-c0d2-8e9e613f127f"
   },
   "outputs": [
    {
     "name": "stderr",
     "output_type": "stream",
     "text": [
      "C:\\ProgramData\\Anaconda3\\lib\\site-packages\\ipykernel\\ipkernel.py:287: DeprecationWarning: `should_run_async` will not call `transform_cell` automatically in the future. Please pass the result to `transformed_cell` argument and any exception that happen during thetransform in `preprocessing_exc_tuple` in IPython 7.17 and above.\n",
      "  and should_run_async(code)\n"
     ]
    }
   ],
   "source": [
    "import pandas as pd\n",
    "import numpy as np\n",
    "import re, time, os\n",
    "from eunjeon import Mecab"
   ]
  },
  {
   "cell_type": "code",
   "execution_count": 16,
   "metadata": {
    "executionInfo": {
     "elapsed": 994,
     "status": "ok",
     "timestamp": 1615012301743,
     "user": {
      "displayName": "MINKI OH",
      "photoUrl": "https://lh3.googleusercontent.com/a-/AOh14GglL-BNhYKde9wBdh6rd3Ix46Dou98NnP1zxT4sdw=s64",
      "userId": "12569522001043561401"
     },
     "user_tz": -540
    },
    "id": "9Kp9Jz4NO-_v"
   },
   "outputs": [
    {
     "data": {
      "text/html": [
       "<div>\n",
       "<style scoped>\n",
       "    .dataframe tbody tr th:only-of-type {\n",
       "        vertical-align: middle;\n",
       "    }\n",
       "\n",
       "    .dataframe tbody tr th {\n",
       "        vertical-align: top;\n",
       "    }\n",
       "\n",
       "    .dataframe thead th {\n",
       "        text-align: right;\n",
       "    }\n",
       "</style>\n",
       "<table border=\"1\" class=\"dataframe\">\n",
       "  <thead>\n",
       "    <tr style=\"text-align: right;\">\n",
       "      <th></th>\n",
       "      <th>text</th>\n",
       "    </tr>\n",
       "  </thead>\n",
       "  <tbody>\n",
       "    <tr>\n",
       "      <th>0</th>\n",
       "      <td>군 신병교육대에 입소해 훈련을 받고 있는 병들을 편의상 이르는 말.</td>\n",
       "    </tr>\n",
       "    <tr>\n",
       "      <th>1</th>\n",
       "      <td>군대의 병 계급의 첫 번째 단계로, 대한민국의 군사 계급 중 최하위 계급이다. 후술...</td>\n",
       "    </tr>\n",
       "    <tr>\n",
       "      <th>2</th>\n",
       "      <td>군대의 병 신분의 계급 중 하나. 흔히 '일병'이라고 부른다</td>\n",
       "    </tr>\n",
       "    <tr>\n",
       "      <th>3</th>\n",
       "      <td>군대의 병 계급의 세 번째 단계. 한국군과 미군에서 가장 숫자가 많은 계급이다.</td>\n",
       "    </tr>\n",
       "    <tr>\n",
       "      <th>4</th>\n",
       "      <td>군대의 병 계급의 최종 단계. 군필자는 전역 후에도 전역 전 계급을 이어가기 때문에...</td>\n",
       "    </tr>\n",
       "  </tbody>\n",
       "</table>\n",
       "</div>"
      ],
      "text/plain": [
       "                                                text\n",
       "0              군 신병교육대에 입소해 훈련을 받고 있는 병들을 편의상 이르는 말.\n",
       "1  군대의 병 계급의 첫 번째 단계로, 대한민국의 군사 계급 중 최하위 계급이다. 후술...\n",
       "2                  군대의 병 신분의 계급 중 하나. 흔히 '일병'이라고 부른다\n",
       "3       군대의 병 계급의 세 번째 단계. 한국군과 미군에서 가장 숫자가 많은 계급이다.\n",
       "4  군대의 병 계급의 최종 단계. 군필자는 전역 후에도 전역 전 계급을 이어가기 때문에..."
      ]
     },
     "execution_count": 16,
     "metadata": {},
     "output_type": "execute_result"
    }
   ],
   "source": [
    "text = [\"군 신병교육대에 입소해 훈련을 받고 있는 병들을 편의상 이르는 말.\",\n",
    "        \"군대의 병 계급의 첫 번째 단계로, 대한민국의 군사 계급 중 최하위 계급이다. 후술하겠지만 훈련병, 이경, 이방, 이교도 이등병이다.\",\n",
    "       \"군대의 병 신분의 계급 중 하나. 흔히 '일병'이라고 부른다\",\n",
    "       \"군대의 병 계급의 세 번째 단계. 한국군과 미군에서 가장 숫자가 많은 계급이다.\",\n",
    "       \"군대의 병 계급의 최종 단계. 군필자는 전역 후에도 전역 전 계급을 이어가기 때문에, 만기전역을 하면서 영창 등 진급에 영향을 받지 않았다면 행정상 예비군으로서 달고 있는 계급 또한 병장이다.\"]\n",
    "df = pd.DataFrame(text, columns=['text'])\n",
    "df"
   ]
  },
  {
   "cell_type": "code",
   "execution_count": 17,
   "metadata": {
    "executionInfo": {
     "elapsed": 1151,
     "status": "ok",
     "timestamp": 1615016157177,
     "user": {
      "displayName": "MINKI OH",
      "photoUrl": "https://lh3.googleusercontent.com/a-/AOh14GglL-BNhYKde9wBdh6rd3Ix46Dou98NnP1zxT4sdw=s64",
      "userId": "12569522001043561401"
     },
     "user_tz": -540
    },
    "id": "UF2jzJD2QW9z"
   },
   "outputs": [
    {
     "name": "stderr",
     "output_type": "stream",
     "text": [
      "C:\\ProgramData\\Anaconda3\\lib\\site-packages\\ipykernel\\ipkernel.py:287: DeprecationWarning: `should_run_async` will not call `transform_cell` automatically in the future. Please pass the result to `transformed_cell` argument and any exception that happen during thetransform in `preprocessing_exc_tuple` in IPython 7.17 and above.\n",
      "  and should_run_async(code)\n"
     ]
    }
   ],
   "source": [
    "mecab = Mecab()\n",
    "\n",
    "# Stopword Thesaurus Read\n",
    "def read_stopword(stopword_file):\n",
    "    with open(stopword_file, 'r', encoding='UTF-8') as f:\n",
    "        stopwords = f.read().split('\\n')\n",
    "    return list(set(stopwords))\n",
    "\n",
    "def read_thesaurus(file_name):\n",
    "    thesaurus = {}\n",
    "    with open(file_name, 'r', encoding='UTF-8') as f:\n",
    "        lines = f.readlines()\n",
    "        \n",
    "    for line in lines:\n",
    "        line = line.replace('\\n','')\n",
    "        for tok in line.split(',')[1:]:\n",
    "            thesaurus[tok] = line.split(',')[0]\n",
    "    return thesaurus\n",
    "\n",
    "# 한글만 사용\n",
    "def cleaning(text):\n",
    "    pattern = re.compile(r\"[^ㄱ-힗]\")\n",
    "    return re.sub(pattern, ' ', str(text))\n",
    "\n",
    "# 명사 추출기\n",
    "def tokenizer(text):\n",
    "    return mecab.nouns(text)\n",
    "\n",
    "#  Stopword 제거\n",
    "def drop_stopwords(text, stopword):\n",
    "    result = []\n",
    "    for tok in text.split():\n",
    "        if tok in stopword:\n",
    "            continue\n",
    "        else:\n",
    "            result.append(tok)\n",
    "    return result\n",
    "\n",
    "#  시소러스 적용\n",
    "def change_thesaurus(text, thesaurus):\n",
    "    result = []\n",
    "    for tok in text.split():\n",
    "        if tok in thesaurus.keys():\n",
    "            result.appeend(thesaurus_dict[tok])\n",
    "        else:\n",
    "            result.append(tok)\n",
    "    return result\n",
    "\n",
    "# 한글, 명사 추출, 불용어제거, 시소러스 적용\n",
    "def preprocessing(text, stopword, thesaurus):\n",
    "    result = []\n",
    "    text = cleaning(text)\n",
    "    \n",
    "    toks = mecab.nouns(text)\n",
    "#     print(toks)\n",
    "    for tok in toks:\n",
    "        if (tok in stopword):\n",
    "            continue\n",
    "        else:\n",
    "            if tok in thesaurus.keys():\n",
    "                result.append(thesaurus[tok])\n",
    "            else:\n",
    "                result.append(tok)\n",
    "    \n",
    "    return \" \".join(result)"
   ]
  },
  {
   "cell_type": "code",
   "execution_count": 18,
   "metadata": {},
   "outputs": [
    {
     "data": {
      "text/plain": [
       "['미군', '계급', '한국군', '군대']"
      ]
     },
     "execution_count": 18,
     "metadata": {},
     "output_type": "execute_result"
    }
   ],
   "source": [
    "stopword = read_stopword('stopwords.txt')\n",
    "stopword"
   ]
  },
  {
   "cell_type": "code",
   "execution_count": 19,
   "metadata": {},
   "outputs": [
    {
     "data": {
      "text/plain": [
       "{'이경': '이등병', '이방': '이등병', '이병': '이등병', '이교': '이등병', '병': '병사'}"
      ]
     },
     "execution_count": 19,
     "metadata": {},
     "output_type": "execute_result"
    }
   ],
   "source": [
    "thesaurus = read_thesaurus('thesaurus.txt')\n",
    "thesaurus"
   ]
  },
  {
   "cell_type": "code",
   "execution_count": 20,
   "metadata": {
    "id": "CCQNna_fQ_d3"
   },
   "outputs": [
    {
     "data": {
      "text/html": [
       "<div>\n",
       "<style scoped>\n",
       "    .dataframe tbody tr th:only-of-type {\n",
       "        vertical-align: middle;\n",
       "    }\n",
       "\n",
       "    .dataframe tbody tr th {\n",
       "        vertical-align: top;\n",
       "    }\n",
       "\n",
       "    .dataframe thead th {\n",
       "        text-align: right;\n",
       "    }\n",
       "</style>\n",
       "<table border=\"1\" class=\"dataframe\">\n",
       "  <thead>\n",
       "    <tr style=\"text-align: right;\">\n",
       "      <th></th>\n",
       "      <th>text</th>\n",
       "      <th>result</th>\n",
       "    </tr>\n",
       "  </thead>\n",
       "  <tbody>\n",
       "    <tr>\n",
       "      <th>0</th>\n",
       "      <td>군 신병교육대에 입소해 훈련을 받고 있는 병들을 편의상 이르는 말.</td>\n",
       "      <td>군 신병교육대 입소 훈련 병사 말</td>\n",
       "    </tr>\n",
       "    <tr>\n",
       "      <th>1</th>\n",
       "      <td>군대의 병 계급의 첫 번째 단계로, 대한민국의 군사 계급 중 최하위 계급이다. 후술...</td>\n",
       "      <td>병사 번 단계 대한민국 군사 중 하위 후술 훈련병 이등병 방 교도 이등병</td>\n",
       "    </tr>\n",
       "    <tr>\n",
       "      <th>2</th>\n",
       "      <td>군대의 병 신분의 계급 중 하나. 흔히 '일병'이라고 부른다</td>\n",
       "      <td>병사 신분 중 하나 일병</td>\n",
       "    </tr>\n",
       "    <tr>\n",
       "      <th>3</th>\n",
       "      <td>군대의 병 계급의 세 번째 단계. 한국군과 미군에서 가장 숫자가 많은 계급이다.</td>\n",
       "      <td>병사 번 단계 국군 숫자</td>\n",
       "    </tr>\n",
       "    <tr>\n",
       "      <th>4</th>\n",
       "      <td>군대의 병 계급의 최종 단계. 군필자는 전역 후에도 전역 전 계급을 이어가기 때문에...</td>\n",
       "      <td>병사 최종 단계 군필 전역 후 전역 전 때문 전역 영창 등 진급 영향 행정 예비군 병장</td>\n",
       "    </tr>\n",
       "  </tbody>\n",
       "</table>\n",
       "</div>"
      ],
      "text/plain": [
       "                                                text  \\\n",
       "0              군 신병교육대에 입소해 훈련을 받고 있는 병들을 편의상 이르는 말.   \n",
       "1  군대의 병 계급의 첫 번째 단계로, 대한민국의 군사 계급 중 최하위 계급이다. 후술...   \n",
       "2                  군대의 병 신분의 계급 중 하나. 흔히 '일병'이라고 부른다   \n",
       "3       군대의 병 계급의 세 번째 단계. 한국군과 미군에서 가장 숫자가 많은 계급이다.   \n",
       "4  군대의 병 계급의 최종 단계. 군필자는 전역 후에도 전역 전 계급을 이어가기 때문에...   \n",
       "\n",
       "                                             result  \n",
       "0                                군 신병교육대 입소 훈련 병사 말  \n",
       "1          병사 번 단계 대한민국 군사 중 하위 후술 훈련병 이등병 방 교도 이등병  \n",
       "2                                     병사 신분 중 하나 일병  \n",
       "3                                     병사 번 단계 국군 숫자  \n",
       "4  병사 최종 단계 군필 전역 후 전역 전 때문 전역 영창 등 진급 영향 행정 예비군 병장  "
      ]
     },
     "execution_count": 20,
     "metadata": {},
     "output_type": "execute_result"
    }
   ],
   "source": [
    "df['result'] = df['text'].apply(lambda x : preprocessing(x, stopword, thesaurus))\n",
    "df"
   ]
  },
  {
   "cell_type": "code",
   "execution_count": null,
   "metadata": {},
   "outputs": [],
   "source": []
  }
 ],
 "metadata": {
  "colab": {
   "authorship_tag": "ABX9TyP9TKnwMUK91y/7G+k8/jrj",
   "collapsed_sections": [],
   "name": "한국어전처리(OMK)",
   "provenance": []
  },
  "kernelspec": {
   "display_name": "Python 3",
   "language": "python",
   "name": "python3"
  },
  "language_info": {
   "codemirror_mode": {
    "name": "ipython",
    "version": 3
   },
   "file_extension": ".py",
   "mimetype": "text/x-python",
   "name": "python",
   "nbconvert_exporter": "python",
   "pygments_lexer": "ipython3",
   "version": "3.8.5"
  }
 },
 "nbformat": 4,
 "nbformat_minor": 1
}
