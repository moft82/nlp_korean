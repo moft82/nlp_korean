{
 "cells": [
  {
   "cell_type": "code",
   "execution_count": 2,
   "metadata": {
    "colab": {
     "base_uri": "https://localhost:8080/"
    },
    "executionInfo": {
     "elapsed": 23177,
     "status": "ok",
     "timestamp": 1615012268953,
     "user": {
      "displayName": "MINKI OH",
      "photoUrl": "https://lh3.googleusercontent.com/a-/AOh14GglL-BNhYKde9wBdh6rd3Ix46Dou98NnP1zxT4sdw=s64",
      "userId": "12569522001043561401"
     },
     "user_tz": -540
    },
    "id": "788qBYWiOljl",
    "outputId": "b59cd4c9-19ff-4f52-d3ba-93cca43347e5"
   },
   "outputs": [
    {
     "data": {
      "text/html": [
       "<style>.container { width:95% !important; }</style>"
      ],
      "text/plain": [
       "<IPython.core.display.HTML object>"
      ]
     },
     "metadata": {},
     "output_type": "display_data"
    }
   ],
   "source": [
    "from IPython.core.display import display, HTML\n",
    "display(HTML(\"<style>.container { width:95% !important; }</style>\"))"
   ]
  },
  {
   "cell_type": "code",
   "execution_count": 3,
   "metadata": {
    "colab": {
     "base_uri": "https://localhost:8080/"
    },
    "executionInfo": {
     "elapsed": 2078,
     "status": "ok",
     "timestamp": 1615012296765,
     "user": {
      "displayName": "MINKI OH",
      "photoUrl": "https://lh3.googleusercontent.com/a-/AOh14GglL-BNhYKde9wBdh6rd3Ix46Dou98NnP1zxT4sdw=s64",
      "userId": "12569522001043561401"
     },
     "user_tz": -540
    },
    "id": "kMM2dLhjO5nX",
    "outputId": "4d1d052e-08a6-4ddb-c0d2-8e9e613f127f"
   },
   "outputs": [],
   "source": [
    "import pandas as pd\n",
    "import numpy as np\n",
    "import re, time, os\n",
    "import matplotlib.pyplot as plt\n",
    "\n",
    "import gensim\n",
    "from gensim import corpora \n",
    "from gensim.models.ldamodel import LdaModel \n",
    "from gensim.models.callbacks import CoherenceMetric , PerplexityMetric\n",
    "from gensim.models.coherencemodel import CoherenceModel\n",
    "from gensim.utils import simple_preprocess\n",
    "from gensim.parsing.preprocessing import STOPWORDS\n",
    "from eunjeon import Mecab\n",
    "\n",
    "import pyLDAvis.gensim"
   ]
  },
  {
   "cell_type": "code",
   "execution_count": 4,
   "metadata": {
    "executionInfo": {
     "elapsed": 994,
     "status": "ok",
     "timestamp": 1615012301743,
     "user": {
      "displayName": "MINKI OH",
      "photoUrl": "https://lh3.googleusercontent.com/a-/AOh14GglL-BNhYKde9wBdh6rd3Ix46Dou98NnP1zxT4sdw=s64",
      "userId": "12569522001043561401"
     },
     "user_tz": -540
    },
    "id": "9Kp9Jz4NO-_v"
   },
   "outputs": [
    {
     "name": "stderr",
     "output_type": "stream",
     "text": [
      "C:\\ProgramData\\Anaconda3\\lib\\site-packages\\ipykernel\\ipkernel.py:287: DeprecationWarning: `should_run_async` will not call `transform_cell` automatically in the future. Please pass the result to `transformed_cell` argument and any exception that happen during thetransform in `preprocessing_exc_tuple` in IPython 7.17 and above.\n",
      "  and should_run_async(code)\n"
     ]
    }
   ],
   "source": [
    "def perplexity_coherence(bow_corpus, dictionary, processed_docs, st=2, en=16):\n",
    "    perplexity = []\n",
    "    coherence_socre = []\n",
    "\n",
    "    perplexity = []\n",
    "    coherence_socre = []\n",
    "    models = []\n",
    "    for i in range(st, en):\n",
    "        lda_model = gensim.models.LdaMulticore(bow_corpus, num_topics=i, id2word=dictionary)\n",
    "        models.append(lda_model)\n",
    "        coherence_model_lda = CoherenceModel(model=lda_model, texts=processed_docs, dictionary=dictionary, coherence='c_v')\n",
    "        coherence_socre.append(coherence_model_lda.get_coherence())\n",
    "        perplexity.append(lda_model.log_perplexity(bow_corpus))\n",
    "\n",
    "    # perplexity_change = []\n",
    "    # for i, t in enumerate(perplexity[:-1]):\n",
    "    #     perplexity_change.append(perplexity[i+1] - perplexity[i])\n",
    "\n",
    "    fig, (ax1, ax2) = plt.subplots(1,2, figsize=(30,8))\n",
    "    fig.suptitle('Perplexity & Coherence Score')\n",
    "    ax1.plot(range(st, en), perplexity, 'bx-')\n",
    "    ax2.plot(range(st, en), coherence_socre, 'bx-')\n",
    "\n",
    "    fig.show()\n",
    "\n",
    "    return models, coherence_socre"
   ]
  },
  {
   "cell_type": "code",
   "execution_count": 6,
   "metadata": {
    "colab": {
     "base_uri": "https://localhost:8080/"
    },
    "executionInfo": {
     "elapsed": 970,
     "status": "ok",
     "timestamp": 1615012802430,
     "user": {
      "displayName": "MINKI OH",
      "photoUrl": "https://lh3.googleusercontent.com/a-/AOh14GglL-BNhYKde9wBdh6rd3Ix46Dou98NnP1zxT4sdw=s64",
      "userId": "12569522001043561401"
     },
     "user_tz": -540
    },
    "id": "gauAW8EYPAen",
    "outputId": "7e6b024f-1ce3-414f-8d89-c128140a03e0"
   },
   "outputs": [
    {
     "name": "stderr",
     "output_type": "stream",
     "text": [
      "C:\\ProgramData\\Anaconda3\\lib\\site-packages\\ipykernel\\ipkernel.py:287: DeprecationWarning: `should_run_async` will not call `transform_cell` automatically in the future. Please pass the result to `transformed_cell` argument and any exception that happen during thetransform in `preprocessing_exc_tuple` in IPython 7.17 and above.\n",
      "  and should_run_async(code)\n"
     ]
    },
    {
     "data": {
      "text/plain": [
       "['.git', '.ipynb_checkpoints', 'sample.csv', '한국어전처리(OMK).ipynb']"
      ]
     },
     "execution_count": 6,
     "metadata": {},
     "output_type": "execute_result"
    }
   ],
   "source": [
    "os.listdir()"
   ]
  },
  {
   "cell_type": "code",
   "execution_count": 7,
   "metadata": {
    "executionInfo": {
     "elapsed": 1327,
     "status": "ok",
     "timestamp": 1615012741232,
     "user": {
      "displayName": "MINKI OH",
      "photoUrl": "https://lh3.googleusercontent.com/a-/AOh14GglL-BNhYKde9wBdh6rd3Ix46Dou98NnP1zxT4sdw=s64",
      "userId": "12569522001043561401"
     },
     "user_tz": -540
    },
    "id": "uxfm2p5OPHme"
   },
   "outputs": [
    {
     "name": "stderr",
     "output_type": "stream",
     "text": [
      "C:\\ProgramData\\Anaconda3\\lib\\site-packages\\ipykernel\\ipkernel.py:287: DeprecationWarning: `should_run_async` will not call `transform_cell` automatically in the future. Please pass the result to `transformed_cell` argument and any exception that happen during thetransform in `preprocessing_exc_tuple` in IPython 7.17 and above.\n",
      "  and should_run_async(code)\n"
     ]
    },
    {
     "data": {
      "text/html": [
       "<div>\n",
       "<style scoped>\n",
       "    .dataframe tbody tr th:only-of-type {\n",
       "        vertical-align: middle;\n",
       "    }\n",
       "\n",
       "    .dataframe tbody tr th {\n",
       "        vertical-align: top;\n",
       "    }\n",
       "\n",
       "    .dataframe thead th {\n",
       "        text-align: right;\n",
       "    }\n",
       "</style>\n",
       "<table border=\"1\" class=\"dataframe\">\n",
       "  <thead>\n",
       "    <tr style=\"text-align: right;\">\n",
       "      <th></th>\n",
       "      <th>index</th>\n",
       "      <th>ID</th>\n",
       "      <th>TEXT</th>\n",
       "      <th>PY</th>\n",
       "    </tr>\n",
       "  </thead>\n",
       "  <tbody>\n",
       "    <tr>\n",
       "      <th>0</th>\n",
       "      <td>0</td>\n",
       "      <td>9791162490570</td>\n",
       "      <td>토담 시인선 38권. 박현태 시인의 열아홉 번째 시집이다. 주변 일상의 사소한 오브...</td>\n",
       "      <td>2019.0</td>\n",
       "    </tr>\n",
       "    <tr>\n",
       "      <th>1</th>\n",
       "      <td>2</td>\n",
       "      <td>9788998274368</td>\n",
       "      <td>제15회 일본 미스터리문학 대상 신인상 수상 작가 마에카와 유타카의 장편소설. 시사...</td>\n",
       "      <td>2019.0</td>\n",
       "    </tr>\n",
       "    <tr>\n",
       "      <th>2</th>\n",
       "      <td>7</td>\n",
       "      <td>9791188020973</td>\n",
       "      <td>&amp;lt;삼국유사&amp;gt;는 13세기 보각국사 일연이 지은 야사로서 국사, 민속학, 국...</td>\n",
       "      <td>2019.0</td>\n",
       "    </tr>\n",
       "    <tr>\n",
       "      <th>3</th>\n",
       "      <td>16</td>\n",
       "      <td>9791158791070</td>\n",
       "      <td>존 그리샴, 마이클 코넬리의 뒤를 잇는 법정 스릴러계의 다크호스로 주목받고 있는 스...</td>\n",
       "      <td>2019.0</td>\n",
       "    </tr>\n",
       "    <tr>\n",
       "      <th>4</th>\n",
       "      <td>54</td>\n",
       "      <td>9788972759546</td>\n",
       "      <td>일본 추리소설계를 대표하는 최고의 베스트셀러 작가, 히가시노 게이고의 &amp;lt;마력의...</td>\n",
       "      <td>2019.0</td>\n",
       "    </tr>\n",
       "  </tbody>\n",
       "</table>\n",
       "</div>"
      ],
      "text/plain": [
       "   index             ID                                               TEXT  \\\n",
       "0      0  9791162490570  토담 시인선 38권. 박현태 시인의 열아홉 번째 시집이다. 주변 일상의 사소한 오브...   \n",
       "1      2  9788998274368  제15회 일본 미스터리문학 대상 신인상 수상 작가 마에카와 유타카의 장편소설. 시사...   \n",
       "2      7  9791188020973  &lt;삼국유사&gt;는 13세기 보각국사 일연이 지은 야사로서 국사, 민속학, 국...   \n",
       "3     16  9791158791070  존 그리샴, 마이클 코넬리의 뒤를 잇는 법정 스릴러계의 다크호스로 주목받고 있는 스...   \n",
       "4     54  9788972759546  일본 추리소설계를 대표하는 최고의 베스트셀러 작가, 히가시노 게이고의 &lt;마력의...   \n",
       "\n",
       "       PY  \n",
       "0  2019.0  \n",
       "1  2019.0  \n",
       "2  2019.0  \n",
       "3  2019.0  \n",
       "4  2019.0  "
      ]
     },
     "execution_count": 7,
     "metadata": {},
     "output_type": "execute_result"
    }
   ],
   "source": [
    "df = pd.read_csv('sample.csv')\n",
    "df.head()"
   ]
  },
  {
   "cell_type": "code",
   "execution_count": 50,
   "metadata": {
    "executionInfo": {
     "elapsed": 1151,
     "status": "ok",
     "timestamp": 1615016157177,
     "user": {
      "displayName": "MINKI OH",
      "photoUrl": "https://lh3.googleusercontent.com/a-/AOh14GglL-BNhYKde9wBdh6rd3Ix46Dou98NnP1zxT4sdw=s64",
      "userId": "12569522001043561401"
     },
     "user_tz": -540
    },
    "id": "UF2jzJD2QW9z"
   },
   "outputs": [],
   "source": [
    "mecab = Mecab()\n",
    "\n",
    "def read_stopword(stopword_file):\n",
    "    with open(stopword_file, 'r') as f:\n",
    "        stopwords = f.read().split('\\n')\n",
    "    return list(set(stopwords))\n",
    "\n",
    "def cleaning(t):\n",
    "    pattern = re.compile(r\"[^ㄱ-힗]\")\n",
    "    return re.sub(pattern, ' ', str(t))\n",
    "\n",
    "\n",
    "\n",
    "def tokenizer(t):\n",
    "    return mecab.nouns(t)\n",
    "\n",
    "def drop_stopwords(text, stopword):\n",
    "    result = []\n",
    "    for tok in text.split():\n",
    "        if tok in stopword:\n",
    "            continue\n",
    "        else:\n",
    "            result.append(tok)\n",
    "    return result\n",
    "\n",
    "def change_thesaurus(text, thesaurus):\n",
    "    result = []\n",
    "    for tok in text.split():\n",
    "        if tok in thesaurus.keys():\n",
    "            tok = list(thesaurus.values())[list(thesaurus.keys()).index(tok)]\n",
    "            result.append(tok)\n",
    "        else:\n",
    "            result.append(tok)\n",
    "    return result\n",
    "    \n",
    "def preprocessing(text, stopword, thesaurus):\n",
    "    result = []\n",
    "    text = cleaning(text)\n",
    "    \n",
    "    toks = mecab.nouns(text)\n",
    "    print(toks)\n",
    "    for tok in toks:\n",
    "        if (tok in stopword) or (len(tok) < 2):\n",
    "            continue\n",
    "        else:\n",
    "            if tok in thesaurus.keys():\n",
    "                tok = list(thesaurus.values())[list(thesaurus.keys()).index(tok)]\n",
    "                result.append(tok)\n",
    "            else:\n",
    "                result.append(tok)\n",
    "    \n",
    "    return result"
   ]
  },
  {
   "cell_type": "code",
   "execution_count": null,
   "metadata": {
    "id": "Q-j1z8YvRvwn"
   },
   "outputs": [],
   "source": [
    "stopword_file = \"stopword.txt\"\n",
    "stopword = read_stopword(stopword_file)"
   ]
  },
  {
   "cell_type": "code",
   "execution_count": 11,
   "metadata": {
    "colab": {
     "base_uri": "https://localhost:8080/",
     "height": 204
    },
    "executionInfo": {
     "elapsed": 1355,
     "status": "ok",
     "timestamp": 1615012810909,
     "user": {
      "displayName": "MINKI OH",
      "photoUrl": "https://lh3.googleusercontent.com/a-/AOh14GglL-BNhYKde9wBdh6rd3Ix46Dou98NnP1zxT4sdw=s64",
      "userId": "12569522001043561401"
     },
     "user_tz": -540
    },
    "id": "vIhgNycDQ3wB",
    "outputId": "6f6e189b-021b-42b5-a4d0-3192271f6390"
   },
   "outputs": [
    {
     "data": {
      "text/html": [
       "<div>\n",
       "<style scoped>\n",
       "    .dataframe tbody tr th:only-of-type {\n",
       "        vertical-align: middle;\n",
       "    }\n",
       "\n",
       "    .dataframe tbody tr th {\n",
       "        vertical-align: top;\n",
       "    }\n",
       "\n",
       "    .dataframe thead th {\n",
       "        text-align: right;\n",
       "    }\n",
       "</style>\n",
       "<table border=\"1\" class=\"dataframe\">\n",
       "  <thead>\n",
       "    <tr style=\"text-align: right;\">\n",
       "      <th></th>\n",
       "      <th>index</th>\n",
       "      <th>ID</th>\n",
       "      <th>TEXT</th>\n",
       "      <th>PY</th>\n",
       "    </tr>\n",
       "  </thead>\n",
       "  <tbody>\n",
       "    <tr>\n",
       "      <th>0</th>\n",
       "      <td>0</td>\n",
       "      <td>9791162490570</td>\n",
       "      <td>토담 시인선 38권. 박현태 시인의 열아홉 번째 시집이다. 주변 일상의 사소한 오브...</td>\n",
       "      <td>2019.0</td>\n",
       "    </tr>\n",
       "    <tr>\n",
       "      <th>1</th>\n",
       "      <td>2</td>\n",
       "      <td>9788998274368</td>\n",
       "      <td>제15회 일본 미스터리문학 대상 신인상 수상 작가 마에카와 유타카의 장편소설. 시사...</td>\n",
       "      <td>2019.0</td>\n",
       "    </tr>\n",
       "    <tr>\n",
       "      <th>2</th>\n",
       "      <td>7</td>\n",
       "      <td>9791188020973</td>\n",
       "      <td>&amp;lt;삼국유사&amp;gt;는 13세기 보각국사 일연이 지은 야사로서 국사, 민속학, 국...</td>\n",
       "      <td>2019.0</td>\n",
       "    </tr>\n",
       "    <tr>\n",
       "      <th>3</th>\n",
       "      <td>16</td>\n",
       "      <td>9791158791070</td>\n",
       "      <td>존 그리샴, 마이클 코넬리의 뒤를 잇는 법정 스릴러계의 다크호스로 주목받고 있는 스...</td>\n",
       "      <td>2019.0</td>\n",
       "    </tr>\n",
       "    <tr>\n",
       "      <th>4</th>\n",
       "      <td>54</td>\n",
       "      <td>9788972759546</td>\n",
       "      <td>일본 추리소설계를 대표하는 최고의 베스트셀러 작가, 히가시노 게이고의 &amp;lt;마력의...</td>\n",
       "      <td>2019.0</td>\n",
       "    </tr>\n",
       "  </tbody>\n",
       "</table>\n",
       "</div>"
      ],
      "text/plain": [
       "   index  ...      PY\n",
       "0      0  ...  2019.0\n",
       "1      2  ...  2019.0\n",
       "2      7  ...  2019.0\n",
       "3     16  ...  2019.0\n",
       "4     54  ...  2019.0\n",
       "\n",
       "[5 rows x 4 columns]"
      ]
     },
     "execution_count": 11,
     "metadata": {
      "tags": []
     },
     "output_type": "execute_result"
    }
   ],
   "source": [
    "ko = pd.read_csv(path + 'sample.csv')\n",
    "ko.head()"
   ]
  },
  {
   "cell_type": "code",
   "execution_count": 12,
   "metadata": {
    "colab": {
     "base_uri": "https://localhost:8080/",
     "height": 204
    },
    "executionInfo": {
     "elapsed": 967,
     "status": "ok",
     "timestamp": 1615012821880,
     "user": {
      "displayName": "MINKI OH",
      "photoUrl": "https://lh3.googleusercontent.com/a-/AOh14GglL-BNhYKde9wBdh6rd3Ix46Dou98NnP1zxT4sdw=s64",
      "userId": "12569522001043561401"
     },
     "user_tz": -540
    },
    "id": "yDWiXmhjQ8sl",
    "outputId": "0da5ba71-20b6-41e8-ed98-231725c2657f"
   },
   "outputs": [
    {
     "data": {
      "text/html": [
       "<div>\n",
       "<style scoped>\n",
       "    .dataframe tbody tr th:only-of-type {\n",
       "        vertical-align: middle;\n",
       "    }\n",
       "\n",
       "    .dataframe tbody tr th {\n",
       "        vertical-align: top;\n",
       "    }\n",
       "\n",
       "    .dataframe thead th {\n",
       "        text-align: right;\n",
       "    }\n",
       "</style>\n",
       "<table border=\"1\" class=\"dataframe\">\n",
       "  <thead>\n",
       "    <tr style=\"text-align: right;\">\n",
       "      <th></th>\n",
       "      <th>TITLE</th>\n",
       "      <th>PY</th>\n",
       "      <th>ABSTRACT</th>\n",
       "      <th>TEXT</th>\n",
       "    </tr>\n",
       "  </thead>\n",
       "  <tbody>\n",
       "    <tr>\n",
       "      <th>0</th>\n",
       "      <td>9791162490570</td>\n",
       "      <td>2019.0</td>\n",
       "      <td>토담 시인선 38권. 박현태 시인의 열아홉 번째 시집이다. 주변 일상의 사소한 오브...</td>\n",
       "      <td>9791162490570 토담 시인선 38권. 박현태 시인의 열아홉 번째 시집이다....</td>\n",
       "    </tr>\n",
       "    <tr>\n",
       "      <th>1</th>\n",
       "      <td>9788998274368</td>\n",
       "      <td>2019.0</td>\n",
       "      <td>제15회 일본 미스터리문학 대상 신인상 수상 작가 마에카와 유타카의 장편소설. 시사...</td>\n",
       "      <td>9788998274368 제15회 일본 미스터리문학 대상 신인상 수상 작가 마에카와...</td>\n",
       "    </tr>\n",
       "    <tr>\n",
       "      <th>2</th>\n",
       "      <td>9791188020973</td>\n",
       "      <td>2019.0</td>\n",
       "      <td>&amp;lt;삼국유사&amp;gt;는 13세기 보각국사 일연이 지은 야사로서 국사, 민속학, 국...</td>\n",
       "      <td>9791188020973 &amp;lt;삼국유사&amp;gt;는 13세기 보각국사 일연이 지은 야...</td>\n",
       "    </tr>\n",
       "    <tr>\n",
       "      <th>3</th>\n",
       "      <td>9791158791070</td>\n",
       "      <td>2019.0</td>\n",
       "      <td>존 그리샴, 마이클 코넬리의 뒤를 잇는 법정 스릴러계의 다크호스로 주목받고 있는 스...</td>\n",
       "      <td>9791158791070 존 그리샴, 마이클 코넬리의 뒤를 잇는 법정 스릴러계의 다...</td>\n",
       "    </tr>\n",
       "    <tr>\n",
       "      <th>4</th>\n",
       "      <td>9788972759546</td>\n",
       "      <td>2019.0</td>\n",
       "      <td>일본 추리소설계를 대표하는 최고의 베스트셀러 작가, 히가시노 게이고의 &amp;lt;마력의...</td>\n",
       "      <td>9788972759546 일본 추리소설계를 대표하는 최고의 베스트셀러 작가, 히가시...</td>\n",
       "    </tr>\n",
       "  </tbody>\n",
       "</table>\n",
       "</div>"
      ],
      "text/plain": [
       "           TITLE  ...                                               TEXT\n",
       "0  9791162490570  ...  9791162490570 토담 시인선 38권. 박현태 시인의 열아홉 번째 시집이다....\n",
       "1  9788998274368  ...  9788998274368 제15회 일본 미스터리문학 대상 신인상 수상 작가 마에카와...\n",
       "2  9791188020973  ...  9791188020973 &lt;삼국유사&gt;는 13세기 보각국사 일연이 지은 야...\n",
       "3  9791158791070  ...  9791158791070 존 그리샴, 마이클 코넬리의 뒤를 잇는 법정 스릴러계의 다...\n",
       "4  9788972759546  ...  9788972759546 일본 추리소설계를 대표하는 최고의 베스트셀러 작가, 히가시...\n",
       "\n",
       "[5 rows x 4 columns]"
      ]
     },
     "execution_count": 12,
     "metadata": {
      "tags": []
     },
     "output_type": "execute_result"
    }
   ],
   "source": [
    "# Select columns to use\n",
    "ko = ko[['ID', 'PY', 'TEXT']]\n",
    "# rename columns ex) 논문제목 -> TITLE, '초록 to absatract' , '발행년도' ->'PY'\n",
    "ko = ko.rename(columns={'ID':'TITLE', 'PY':'PY', 'TEXT':'ABSTRACT'})\n",
    "\n",
    "# Delete empty Publish Year\n",
    "ko = ko[ko['PY'].notna()]\n",
    "\n",
    "# Delete empty title and abstract\n",
    "ko = ko[(ko['TITLE'].notna()) & ko['ABSTRACT'].notna()]\n",
    "\n",
    "# Delete duplicates\n",
    "ko = ko.drop_duplicates('TITLE')\n",
    "\n",
    "# Combine Title and Abstract\n",
    "ko['TEXT'] = ko['TITLE'].astype(str) + ' ' + ko['ABSTRACT'].astype(str)\n",
    "ko.head()"
   ]
  },
  {
   "cell_type": "code",
   "execution_count": null,
   "metadata": {
    "id": "CCQNna_fQ_d3"
   },
   "outputs": [],
   "source": [
    "ko['TEXT'] = ko['TEXT'].apply(clean_eng)\n",
    "ko['TEXT'] = ko.apply(lambda x : drop_stopwords(x['TEXT'], stopword))\n",
    "# processed_docs = ko.map(lambda x : preprocessing(x['TEXT'], stopword = stopword, thesaurus = theso))"
   ]
  },
  {
   "cell_type": "code",
   "execution_count": null,
   "metadata": {
    "id": "voDIXMmigDyY"
   },
   "outputs": [],
   "source": []
  },
  {
   "cell_type": "code",
   "execution_count": null,
   "metadata": {
    "id": "__23kJ-CgDwS"
   },
   "outputs": [],
   "source": []
  },
  {
   "cell_type": "code",
   "execution_count": null,
   "metadata": {
    "id": "hwSogvIpgDty"
   },
   "outputs": [],
   "source": []
  },
  {
   "cell_type": "code",
   "execution_count": null,
   "metadata": {
    "id": "gEoLdg-ZgDmw"
   },
   "outputs": [],
   "source": []
  },
  {
   "cell_type": "code",
   "execution_count": 39,
   "metadata": {
    "colab": {
     "base_uri": "https://localhost:8080/"
    },
    "executionInfo": {
     "elapsed": 974,
     "status": "ok",
     "timestamp": 1615015959186,
     "user": {
      "displayName": "MINKI OH",
      "photoUrl": "https://lh3.googleusercontent.com/a-/AOh14GglL-BNhYKde9wBdh6rd3Ix46Dou98NnP1zxT4sdw=s64",
      "userId": "12569522001043561401"
     },
     "user_tz": -540
    },
    "id": "eNzWSLM9URTm",
    "outputId": "f2345cd8-9811-40dd-e370-63122f0ffb04"
   },
   "outputs": [
    {
     "data": {
      "text/plain": [
       "['안녕하세요',\n",
       " '대구광역시',\n",
       " '시장',\n",
       " '고담대구입니다.',\n",
       " '대구시는',\n",
       " '시발',\n",
       " '개',\n",
       " '머',\n",
       " '같은',\n",
       " '대구입니다.',\n",
       " '머구광역시']"
      ]
     },
     "execution_count": 39,
     "metadata": {
      "tags": []
     },
     "output_type": "execute_result"
    }
   ],
   "source": [
    "theso = {\n",
    "    \"대구\" : \"대구광역시\",\n",
    "    \"머구\" : \"대구광역시\",\n",
    "    \"대구시\" : \"대구광역시\",\n",
    "    \"고담대구\" : \"대구광역시\",\n",
    "}\n",
    "stopword = ['시발', '시장']\n",
    "txt = \"안녕하세요 머구 시장 고담대구입니다. 대구시는 시발 개 머 같은 대구입니다. 머구광역시\"\n",
    "\n",
    "change_thesaurus(txt, theso)"
   ]
  },
  {
   "cell_type": "code",
   "execution_count": 30,
   "metadata": {
    "colab": {
     "base_uri": "https://localhost:8080/"
    },
    "executionInfo": {
     "elapsed": 958,
     "status": "ok",
     "timestamp": 1615015414862,
     "user": {
      "displayName": "MINKI OH",
      "photoUrl": "https://lh3.googleusercontent.com/a-/AOh14GglL-BNhYKde9wBdh6rd3Ix46Dou98NnP1zxT4sdw=s64",
      "userId": "12569522001043561401"
     },
     "user_tz": -540
    },
    "id": "RerIv8nEUhKs",
    "outputId": "8ca0aa04-04f0-4de4-be70-228f5d8f2e34"
   },
   "outputs": [
    {
     "data": {
      "text/plain": [
       "['대구광역시', '대구광역시', '대구광역시', '대구광역시']"
      ]
     },
     "execution_count": 30,
     "metadata": {
      "tags": []
     },
     "output_type": "execute_result"
    }
   ],
   "source": [
    "list(theso.values())"
   ]
  },
  {
   "cell_type": "code",
   "execution_count": 37,
   "metadata": {
    "colab": {
     "base_uri": "https://localhost:8080/"
    },
    "executionInfo": {
     "elapsed": 1003,
     "status": "ok",
     "timestamp": 1615015897033,
     "user": {
      "displayName": "MINKI OH",
      "photoUrl": "https://lh3.googleusercontent.com/a-/AOh14GglL-BNhYKde9wBdh6rd3Ix46Dou98NnP1zxT4sdw=s64",
      "userId": "12569522001043561401"
     },
     "user_tz": -540
    },
    "id": "5fa7pR1Fayfa",
    "outputId": "12898f89-4cec-460c-8800-42f2127e2cc9"
   },
   "outputs": [
    {
     "data": {
      "text/plain": [
       "['안녕', '머구', '시장', '고담', '대구', '대구시', '시발', '개', '대구', '머구', '광역시']"
      ]
     },
     "execution_count": 37,
     "metadata": {
      "tags": []
     },
     "output_type": "execute_result"
    }
   ],
   "source": [
    "mecab.nouns(txt)"
   ]
  },
  {
   "cell_type": "code",
   "execution_count": 51,
   "metadata": {
    "colab": {
     "base_uri": "https://localhost:8080/"
    },
    "executionInfo": {
     "elapsed": 975,
     "status": "ok",
     "timestamp": 1615016159711,
     "user": {
      "displayName": "MINKI OH",
      "photoUrl": "https://lh3.googleusercontent.com/a-/AOh14GglL-BNhYKde9wBdh6rd3Ix46Dou98NnP1zxT4sdw=s64",
      "userId": "12569522001043561401"
     },
     "user_tz": -540
    },
    "id": "gQ2QIcLzcrbd",
    "outputId": "91ce806b-c51f-40a6-bafd-e20a9cde3d07"
   },
   "outputs": [
    {
     "name": "stdout",
     "output_type": "stream",
     "text": [
      "['안녕', '머구', '시장', '고담', '대구', '대구시', '시발', '개', '대구', '머구', '광역시']\n"
     ]
    },
    {
     "data": {
      "text/plain": [
       "['안녕', '대구광역시', '고담', '대구광역시', '대구광역시', '대구광역시', '대구광역시', '광역시']"
      ]
     },
     "execution_count": 51,
     "metadata": {
      "tags": []
     },
     "output_type": "execute_result"
    }
   ],
   "source": [
    "preprocessing(txt, stopword, theso)"
   ]
  },
  {
   "cell_type": "code",
   "execution_count": null,
   "metadata": {
    "id": "lf0PdSLJc_UO"
   },
   "outputs": [],
   "source": []
  }
 ],
 "metadata": {
  "colab": {
   "authorship_tag": "ABX9TyP9TKnwMUK91y/7G+k8/jrj",
   "collapsed_sections": [],
   "name": "한국어전처리(OMK)",
   "provenance": []
  },
  "kernelspec": {
   "display_name": "Python 3",
   "language": "python",
   "name": "python3"
  },
  "language_info": {
   "codemirror_mode": {
    "name": "ipython",
    "version": 3
   },
   "file_extension": ".py",
   "mimetype": "text/x-python",
   "name": "python",
   "nbconvert_exporter": "python",
   "pygments_lexer": "ipython3",
   "version": "3.8.5"
  }
 },
 "nbformat": 4,
 "nbformat_minor": 1
}
